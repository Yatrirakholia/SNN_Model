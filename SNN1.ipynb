{
 "cells": [
  {
   "cell_type": "code",
   "execution_count": 4,
   "metadata": {},
   "outputs": [],
   "source": [
    "from brian2 import *"
   ]
  },
  {
   "cell_type": "code",
   "execution_count": 5,
   "metadata": {},
   "outputs": [],
   "source": [
    "tau = 10 * ms      # Membrane time constant\n",
    "V_rest = -70 * mV  # Resting membrane potential\n",
    "V_th = -50 * mV    # Threshold potential\n",
    "V_reset = -65 * mV # Reset potential after spike\n",
    "I = 1 * nA         # Input current to the neuron\n",
    "duration = 100 * ms  # Simulation duration"
   ]
  },
  {
   "cell_type": "code",
   "execution_count": 13,
   "metadata": {},
   "outputs": [],
   "source": [
    "eqs = '''\n",
    "dV/dt = (-(V - V_rest) + I) / tau : volt\n",
    "I: volt\n",
    "tau: second\n",
    "'''"
   ]
  },
  {
   "cell_type": "code",
   "execution_count": 14,
   "metadata": {},
   "outputs": [],
   "source": [
    "G = NeuronGroup(1, eqs, threshold='V > V_th', reset='V = V_reset', method='exact')\n"
   ]
  },
  {
   "cell_type": "code",
   "execution_count": 15,
   "metadata": {},
   "outputs": [],
   "source": [
    "M = StateMonitor(G, 'V', record=True)\n",
    "spikemon = SpikeMonitor(G)"
   ]
  },
  {
   "cell_type": "code",
   "execution_count": 20,
   "metadata": {},
   "outputs": [
    {
     "name": "stderr",
     "output_type": "stream",
     "text": [
      "WARNING    (string):17: RuntimeWarning: divide by zero encountered in divide\n",
      " [py.warnings]\n"
     ]
    }
   ],
   "source": [
    "run(100*ms)\n"
   ]
  },
  {
   "cell_type": "code",
   "execution_count": null,
   "metadata": {},
   "outputs": [],
   "source": []
  },
  {
   "cell_type": "code",
   "execution_count": 21,
   "metadata": {},
   "outputs": [
    {
     "data": {
      "text/plain": [
       "<matplotlib.legend.Legend at 0x156a296e680>"
      ]
     },
     "execution_count": 21,
     "metadata": {},
     "output_type": "execute_result"
    },
    {
     "data": {
      "image/png": "[encoded data removed]",
      "text/plain": [
       "<Figure size 720x288 with 1 Axes>"
      ]
     },
     "metadata": {
      "needs_background": "light"
     },
     "output_type": "display_data"
    }
   ],
   "source": [
    "figure(figsize=(10, 4))\n",
    "\n",
    "subplot(2, 1, 1)\n",
    "plot(M.t / ms, M.V[0] / mV, label=\"Membrane Potential\")\n",
    "axhline(V_th / mV, ls='--', c='red', label=\"Threshold\")\n",
    "xlabel(\"Time (ms)\")\n",
    "ylabel(\"Voltage (mV)\")\n",
    "legend()\n"
   ]
  },
  {
   "cell_type": "code",
   "execution_count": 22,
   "metadata": {},
   "outputs": [
    {
     "data": {
      "text/plain": [
       "<matplotlib.legend.Legend at 0x156a2a967a0>"
      ]
     },
     "execution_count": 22,
     "metadata": {},
     "output_type": "execute_result"
    },
    {
     "data": {
      "image/png": "[encoded data removed]",
      "text/plain": [
       "<Figure size 432x288 with 1 Axes>"
      ]
     },
     "metadata": {
      "needs_background": "light"
     },
     "output_type": "display_data"
    }
   ],
   "source": [
    "subplot(2, 1, 2)\n",
    "plot(spikemon.t / ms, ones(len(spikemon.t)), 'r|', markersize=10, label=\"Spikes\")\n",
    "xlabel(\"Time (ms)\")\n",
    "ylabel(\"Spikes\")\n",
    "legend()\n"
   ]
  },
  {
   "cell_type": "code",
   "execution_count": 19,
   "metadata": {},
   "outputs": [],
   "source": [
    "show()\n"
   ]
  },
  {
   "cell_type": "code",
   "execution_count": 23,
   "metadata": {},
   "outputs": [],
   "source": [
    "import numpy as np\n",
    "import matplotlib.pyplot as plt"
   ]
  },
  {
   "cell_type": "code",
   "execution_count": 24,
   "metadata": {},
   "outputs": [],
   "source": [
    "n_coin = 1000\n",
    "n_flips = 10\n",
    "n_exp = 10000 # repitation"
   ]
  },
  {
   "cell_type": "code",
   "execution_count": 25,
   "metadata": {},
   "outputs": [
    {
     "name": "stdout",
     "output_type": "stream",
     "text": [
      "498.7\n"
     ]
    }
   ],
   "source": [
    "for _ in range(n_exp):\n",
    "  flips = np.random.randint(0,2, (n_coin, n_flips))\n",
    "  head_count = flips.sum()\n",
    "  fraction = head_count / n_flips\n",
    "print(fraction) "
   ]
  },
  {
   "cell_type": "code",
   "execution_count": null,
   "metadata": {},
   "outputs": [],
   "source": []
  }
 ],
 "metadata": {
  "kernelspec": {
   "display_name": "Python 3",
   "language": "python",
   "name": "python3"
  },
  "language_info": {
   "codemirror_mode": {
    "name": "ipython",
    "version": 3
   },
   "file_extension": ".py",
   "mimetype": "text/x-python",
   "name": "python",
   "nbconvert_exporter": "python",
   "pygments_lexer": "ipython3",
   "version": "3.10.6"
  }
 },
 "nbformat": 4,
 "nbformat_minor": 2
}
