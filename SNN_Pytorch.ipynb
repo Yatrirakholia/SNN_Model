{
 "cells": [
  {
   "cell_type": "markdown",
   "metadata": {},
   "source": [
    "Here, we are working on MNIST dataset\n",
    "spikejelly library is used"
   ]
  },
  {
   "cell_type": "code",
   "execution_count": 1,
   "metadata": {},
   "outputs": [
    {
     "name": "stderr",
     "output_type": "stream",
     "text": [
      "c:\\Users\\Dell\\AppData\\Local\\Programs\\Python\\Python310\\lib\\site-packages\\torchvision\\io\\image.py:13: UserWarning: Failed to load image Python extension: '[WinError 127] The specified procedure could not be found'If you don't plan on using image functionality from `torchvision.io`, you can ignore this warning. Otherwise, there might be something wrong with your environment. Did you have `libjpeg` or `libpng` installed before building `torchvision` from source?\n",
      "  warn(\n"
     ]
    }
   ],
   "source": [
    "import torch\n",
    "import torch.nn as nn\n",
    "import torch.optim as optim\n",
    "from torchvision import datasets, transforms\n",
    "from torch.utils.data import DataLoader\n",
    "import spikingjelly.activation_based as sj\n",
    "\n",
    "# Convert images to tensors and binarize them\n",
    "transform = transforms.Compose([transforms.ToTensor(), transforms.Lambda(lambda x: x > 0.5)])\n",
    "\n",
    "# Load MNIST dataset\n",
    "train_dataset = datasets.MNIST(root='./data', train=True, transform=transform, download=True)\n",
    "train_loader = DataLoader(train_dataset, batch_size=64, shuffle=True)\n"
   ]
  },
  {
   "cell_type": "code",
   "execution_count": 2,
   "metadata": {},
   "outputs": [],
   "source": [
    "import spikingjelly.activation_based.neuron as neuron\n",
    "\n",
    "class SNN(nn.Module):\n",
    "    def __init__(self):\n",
    "        super().__init__()\n",
    "        self.fc1 = nn.Linear(28*28, 128)  # First layer (input to hidden)\n",
    "        self.lif1 = neuron.LIFNode(tau=2.0)  # Corrected LIF neuron import\n",
    "        self.fc2 = nn.Linear(128, 10)  # Output layer\n",
    "        self.lif2 = neuron.LIFNode(tau=2.0)  # Corrected LIF neuron import\n",
    "    \n",
    "    def forward(self, x):\n",
    "        x = x.view(x.shape[0], -1)  # Flatten images\n",
    "        x = self.fc1(x)\n",
    "        x = self.lif1(x)\n",
    "        x = self.fc2(x)\n",
    "        x = self.lif2(x)\n",
    "        return x\n"
   ]
  },
  {
   "cell_type": "code",
   "execution_count": 3,
   "metadata": {},
   "outputs": [
    {
     "name": "stdout",
     "output_type": "stream",
     "text": [
      "Epoch 1, Loss: 1.5916, Accuracy: 80.09%\n",
      "Epoch 2, Loss: 1.5140, Accuracy: 90.37%\n",
      "Epoch 3, Loss: 1.5029, Accuracy: 92.24%\n",
      "Epoch 4, Loss: 1.4958, Accuracy: 93.35%\n",
      "Epoch 5, Loss: 1.4904, Accuracy: 94.25%\n",
      "Epoch 6, Loss: 1.4865, Accuracy: 94.88%\n",
      "Epoch 7, Loss: 1.4837, Accuracy: 95.42%\n",
      "Epoch 8, Loss: 1.4815, Accuracy: 95.88%\n",
      "Epoch 9, Loss: 1.4796, Accuracy: 96.30%\n",
      "Epoch 10, Loss: 1.4777, Accuracy: 96.58%\n"
     ]
    }
   ],
   "source": [
    "# Initialize model, optimizer, and loss function\n",
    "model = SNN()\n",
    "optimizer = optim.Adam(model.parameters(), lr=0.001)\n",
    "criterion = nn.CrossEntropyLoss()\n",
    "\n",
    "# Training loop\n",
    "epochs = 10\n",
    "for epoch in range(epochs):\n",
    "    model.train()\n",
    "    total_loss = 0\n",
    "    correct = 0\n",
    "    total = 0\n",
    "\n",
    "    for images, labels in train_loader:\n",
    "        images = images.to(torch.float)  # Ensure images are float\n",
    "        optimizer.zero_grad()\n",
    "\n",
    "        # Forward pass\n",
    "        outputs = model(images)\n",
    "        loss = criterion(outputs, labels)\n",
    "\n",
    "        # Backpropagation\n",
    "        loss.backward()\n",
    "        optimizer.step()\n",
    "\n",
    "        # Reset neuron states to prevent accumulation\n",
    "        for module in model.modules():\n",
    "            if isinstance(module, neuron.LIFNode):  # Ensure LIF neurons reset\n",
    "                module.reset()\n",
    "\n",
    "        total_loss += loss.item()\n",
    "        _, predicted = torch.max(outputs, 1)\n",
    "        total += labels.size(0)\n",
    "        correct += (predicted == labels).sum().item()\n",
    "\n",
    "    print(f\"Epoch {epoch+1}, Loss: {total_loss/len(train_loader):.4f}, Accuracy: {100 * correct/total:.2f}%\")\n"
   ]
  },
  {
   "cell_type": "code",
   "execution_count": null,
   "metadata": {},
   "outputs": [],
   "source": []
  }
 ],
 "metadata": {
  "kernelspec": {
   "display_name": "Python 3",
   "language": "python",
   "name": "python3"
  },
  "language_info": {
   "codemirror_mode": {
    "name": "ipython",
    "version": 3
   },
   "file_extension": ".py",
   "mimetype": "text/x-python",
   "name": "python",
   "nbconvert_exporter": "python",
   "pygments_lexer": "ipython3",
   "version": "3.10.6"
  }
 },
 "nbformat": 4,
 "nbformat_minor": 2
}
